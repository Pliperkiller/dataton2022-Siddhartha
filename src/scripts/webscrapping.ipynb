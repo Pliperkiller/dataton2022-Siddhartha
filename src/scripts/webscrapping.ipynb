{
 "cells": [
  {
   "cell_type": "code",
   "execution_count": 2,
   "metadata": {},
   "outputs": [],
   "source": [
    "import requests\n",
    "import re\n",
    "import nltk\n",
    "\n",
    "from nltk import FreqDist\n",
    "from nltk import word_tokenize\n",
    "\n",
    "from nltk.tokenize import RegexpTokenizer\n",
    "from nltk.corpus import stopwords\n",
    "\n",
    "from bs4 import BeautifulSoup\n",
    "from urllib import request"
   ]
  },
  {
   "cell_type": "code",
   "execution_count": 3,
   "metadata": {},
   "outputs": [],
   "source": [
    "#Página web de la cual se va a extraer la información\n",
    "url='https://www.elespectador.com/economia/contraloria-pide-evitar-volatilidad-e-incertidumbre-al-hablar-de-mineria-y-energia/'\n",
    "#Se envia solicitud a la página\n",
    "resultado=requests.get(url)\n",
    "#Se solicita el texo\n",
    "content=resultado.text\n",
    "soup=BeautifulSoup(content, 'lxml')"
   ]
  },
  {
   "cell_type": "code",
   "execution_count": 4,
   "metadata": {},
   "outputs": [],
   "source": [
    "#Strip borrar espacios en blanco al inicio y al final \n",
    "#Separator borra saltos de línea \n",
    "box=soup.find('section',class_='false').get_text(strip=True,separator=' ')\n",
    "title=soup.find('h1',class_='Title ArticleHeader-Title Title_article').get_text()\n",
    "with open(f'{title}.txt','w') as file: # title + '.txt'\n",
    "  file.write(box)\n",
    "\n",
    "tokens=re.findall('\\w+', box)\n",
    "tokenizer=RegexpTokenizer('\\w+')\n",
    "tokens=tokenizer.tokenize(box)\n",
    "tokens=[token.lower() for token in tokens]"
   ]
  },
  {
   "cell_type": "code",
   "execution_count": 5,
   "metadata": {},
   "outputs": [],
   "source": [
    "def top_freqdst(tokens,n=100):\n",
    "    # Listado de stopwords\n",
    "    stops = stopwords.words('spanish')\n",
    "\n",
    "    # tokens filtrados de stopwords\n",
    "    filtered_tokens = [token for token in tokens if token not in stops]\n",
    "\n",
    "    #freqdist de tokens\n",
    "    f_dst = FreqDist(filtered_tokens)\n",
    "    top_n = f_dst.most_common(n)\n",
    "\n",
    "    return dict(top_n)\n",
    "\n"
   ]
  },
  {
   "cell_type": "code",
   "execution_count": null,
   "metadata": {},
   "outputs": [],
   "source": [
    "def atributos(tokens):\n",
    "    atrib = {}\n",
    "\n",
    "    atrib['top_freqdist'] = top_freqdst(tokens,n=100)\n",
    "\n",
    "    return atrib\n"
   ]
  },
  {
   "cell_type": "code",
   "execution_count": null,
   "metadata": {},
   "outputs": [],
   "source": []
  }
 ],
 "metadata": {
  "kernelspec": {
   "display_name": "Python 3.10.5 64-bit",
   "language": "python",
   "name": "python3"
  },
  "language_info": {
   "codemirror_mode": {
    "name": "ipython",
    "version": 3
   },
   "file_extension": ".py",
   "mimetype": "text/x-python",
   "name": "python",
   "nbconvert_exporter": "python",
   "pygments_lexer": "ipython3",
   "version": "3.10.5"
  },
  "orig_nbformat": 4,
  "vscode": {
   "interpreter": {
    "hash": "26de051ba29f2982a8de78e945f0abaf191376122a1563185a90213a26c5da77"
   }
  }
 },
 "nbformat": 4,
 "nbformat_minor": 2
}
